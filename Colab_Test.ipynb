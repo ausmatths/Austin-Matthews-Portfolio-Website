{
  "cells": [
    {
      "cell_type": "markdown",
      "metadata": {
        "id": "view-in-github",
        "colab_type": "text"
      },
      "source": [
        "<a href=\"https://colab.research.google.com/github/ausmatths/Austin-Matthews-Portfolio-Website/blob/main/Colab_Test.ipynb\" target=\"_parent\"><img src=\"https://colab.research.google.com/assets/colab-badge.svg\" alt=\"Open In Colab\"/></a>"
      ]
    },
    {
      "cell_type": "code",
      "execution_count": null,
      "id": "3f053d82-e0ed-48a8-b50e-561d8b4ee0ba",
      "metadata": {
        "colab": {
          "base_uri": "https://localhost:8080/"
        },
        "id": "3f053d82-e0ed-48a8-b50e-561d8b4ee0ba",
        "outputId": "d041bc79-ac04-4404-ff53-e25b4dfe6f92"
      },
      "outputs": [
        {
          "output_type": "stream",
          "name": "stdout",
          "text": [
            "[3, 1, 2, 5] 3\n",
            "5\n"
          ]
        }
      ],
      "source": [
        "### Containers\n",
        "### Python includes several built-in container types: lists, dictionaries, sets, and tuples.\n",
        "#### Lists\n",
        "### A list is the Python equivalent of an array, but is resizeable and can contain elements of different types:\n",
        "xs = [3, 1, 2, 5]   # Create a list\n",
        "print(xs, xs[0])\n",
        "print(xs[-1])     # Negative indices count from the end of the list; prints \"5\""
      ]
    },
    {
      "cell_type": "code",
      "execution_count": null,
      "id": "5dca8c05-20e1-48e2-82fc-3fef2e63f628",
      "metadata": {
        "colab": {
          "base_uri": "https://localhost:8080/"
        },
        "id": "5dca8c05-20e1-48e2-82fc-3fef2e63f628",
        "outputId": "53061af1-a1fb-4cc6-86c8-661d1f28ca8a"
      },
      "outputs": [
        {
          "output_type": "stream",
          "name": "stdout",
          "text": [
            "5\n"
          ]
        }
      ],
      "source": [
        "print(xs[-1])     # Negative indices count from the end of the list; prints \"2\""
      ]
    },
    {
      "cell_type": "code",
      "execution_count": null,
      "id": "f818c304-8b45-41b2-87bd-0227a4d424d7",
      "metadata": {
        "colab": {
          "base_uri": "https://localhost:8080/"
        },
        "id": "f818c304-8b45-41b2-87bd-0227a4d424d7",
        "outputId": "c8dd26d3-f431-404a-d547-c1f232308ac7"
      },
      "outputs": [
        {
          "output_type": "stream",
          "name": "stdout",
          "text": [
            "[3, 1, 'foo', 5]\n"
          ]
        }
      ],
      "source": [
        "xs[2] = 'foo'    # Lists can contain elements of different types\n",
        "print(xs)"
      ]
    },
    {
      "cell_type": "code",
      "execution_count": null,
      "id": "82a7c68b-f442-44c8-b53e-2ef3c3edd2c2",
      "metadata": {
        "colab": {
          "base_uri": "https://localhost:8080/"
        },
        "id": "82a7c68b-f442-44c8-b53e-2ef3c3edd2c2",
        "outputId": "510d1f41-85ab-489f-c8f5-b53ed28db8f6"
      },
      "outputs": [
        {
          "output_type": "stream",
          "name": "stdout",
          "text": [
            "[3, 1, 'foo', 5, 'bar']\n"
          ]
        }
      ],
      "source": [
        "xs.append('bar') # Add a new element to the end of the list\n",
        "print(xs)"
      ]
    },
    {
      "cell_type": "code",
      "execution_count": null,
      "id": "9db147c3-1338-4aa5-8bc8-da199f7b4117",
      "metadata": {
        "colab": {
          "base_uri": "https://localhost:8080/"
        },
        "id": "9db147c3-1338-4aa5-8bc8-da199f7b4117",
        "outputId": "38d4a839-defd-4e1c-9084-d217fe3073b1"
      },
      "outputs": [
        {
          "output_type": "stream",
          "name": "stdout",
          "text": [
            "bar [3, 1, 'foo', 5]\n"
          ]
        }
      ],
      "source": [
        "x = xs.pop()     # Remove and return the last element of the list\n",
        "print(x, xs)"
      ]
    },
    {
      "cell_type": "code",
      "execution_count": null,
      "id": "fc2c265a-71fe-46ce-9ca6-58e14598a713",
      "metadata": {
        "colab": {
          "base_uri": "https://localhost:8080/"
        },
        "id": "fc2c265a-71fe-46ce-9ca6-58e14598a713",
        "outputId": "5fddfb85-b791-49b0-95da-41f8ca53228d"
      },
      "outputs": [
        {
          "output_type": "stream",
          "name": "stdout",
          "text": [
            "[0, 1, 2, 3, 4]\n"
          ]
        }
      ],
      "source": [
        "#### Slicing\n",
        "### In addition to accessing list elements one at a time, Python provides concise syntax to access sublists; this is known as slicing:\n",
        "nums = list(range(5))    # range is a built-in function that creates a list of integers\n",
        "print(nums)         # Prints \"[0, 1, 2, 3, 4]\""
      ]
    },
    {
      "cell_type": "code",
      "execution_count": null,
      "id": "4b266e8f-81bd-4aea-a31a-548b4ab509fb",
      "metadata": {
        "colab": {
          "base_uri": "https://localhost:8080/"
        },
        "id": "4b266e8f-81bd-4aea-a31a-548b4ab509fb",
        "outputId": "e7a49d40-127b-46cf-e502-c6e7df9e5e49"
      },
      "outputs": [
        {
          "output_type": "stream",
          "name": "stdout",
          "text": [
            "[2, 3]\n"
          ]
        }
      ],
      "source": [
        "print(nums[2:4])    # Get a slice from index 2 to 4 (exclusive); prints \"[2, 3]\""
      ]
    },
    {
      "cell_type": "code",
      "execution_count": null,
      "id": "76e92ce2-aa90-496e-b3a4-7724878e43a4",
      "metadata": {
        "colab": {
          "base_uri": "https://localhost:8080/"
        },
        "id": "76e92ce2-aa90-496e-b3a4-7724878e43a4",
        "outputId": "e14c1917-60ed-4644-8884-d1af404f975c"
      },
      "outputs": [
        {
          "output_type": "stream",
          "name": "stdout",
          "text": [
            "[2, 3, 4]\n"
          ]
        }
      ],
      "source": [
        "print(nums[2:])     # Get a slice from index 2 to the end; prints \"[2, 3, 4]\""
      ]
    },
    {
      "cell_type": "code",
      "execution_count": null,
      "id": "71cd68b6-70de-4a60-83ca-fad0fbe6f747",
      "metadata": {
        "colab": {
          "base_uri": "https://localhost:8080/"
        },
        "id": "71cd68b6-70de-4a60-83ca-fad0fbe6f747",
        "outputId": "fcd5f52a-1381-4fe1-d435-b25e70c92bb3"
      },
      "outputs": [
        {
          "output_type": "stream",
          "name": "stdout",
          "text": [
            "[0, 1]\n"
          ]
        }
      ],
      "source": [
        "print(nums[:2])     # Get a slice from the start to index 2 (exclusive); prints \"[0, 1]\""
      ]
    },
    {
      "cell_type": "code",
      "execution_count": null,
      "id": "7304c6bf-c96e-4270-a557-4be6cf1118db",
      "metadata": {
        "colab": {
          "base_uri": "https://localhost:8080/"
        },
        "id": "7304c6bf-c96e-4270-a557-4be6cf1118db",
        "outputId": "5d7bc1a5-a8e2-4504-c571-79b1ab0bb6c5"
      },
      "outputs": [
        {
          "output_type": "stream",
          "name": "stdout",
          "text": [
            "[0, 1, 2, 3, 4]\n"
          ]
        }
      ],
      "source": [
        "print(nums[:])      # Get a slice of the whole list; prints [\"0, 1, 2, 3, 4]\""
      ]
    },
    {
      "cell_type": "code",
      "execution_count": null,
      "id": "3fc1690c-70a7-48bf-b5bd-f254f6512496",
      "metadata": {
        "colab": {
          "base_uri": "https://localhost:8080/"
        },
        "id": "3fc1690c-70a7-48bf-b5bd-f254f6512496",
        "outputId": "5637510c-d441-45e7-aee3-9d4a062e6de1"
      },
      "outputs": [
        {
          "output_type": "stream",
          "name": "stdout",
          "text": [
            "[0, 1, 2, 3]\n"
          ]
        }
      ],
      "source": [
        "print(nums[:-1])    # Slice indices can be negative; prints [\"0, 1, 2, 3]\""
      ]
    },
    {
      "cell_type": "code",
      "execution_count": null,
      "id": "b427fb68-88f5-468c-af46-7b5e3db7643f",
      "metadata": {
        "colab": {
          "base_uri": "https://localhost:8080/"
        },
        "id": "b427fb68-88f5-468c-af46-7b5e3db7643f",
        "outputId": "736987c8-7656-4b91-a0fa-c0d87fcb441d"
      },
      "outputs": [
        {
          "output_type": "stream",
          "name": "stdout",
          "text": [
            "[0, 1, 8, 9, 4]\n"
          ]
        }
      ],
      "source": [
        "# nums[2:4] = [8, 9] # Assign a new sublist to a slice (this will fail!)\n",
        "new_nums = [i for i in nums]\n",
        "new_nums[2:4] = [8, 9] # Assign a new sublist to a slice\n",
        "print(new_nums)         # Prints \"[0, 1, 8, 9, 4]\""
      ]
    },
    {
      "cell_type": "code",
      "execution_count": null,
      "id": "1f25698f-688a-4a9a-9f31-c67f95b86990",
      "metadata": {
        "colab": {
          "base_uri": "https://localhost:8080/"
        },
        "id": "1f25698f-688a-4a9a-9f31-c67f95b86990",
        "outputId": "54520adf-ecaf-4308-ebe3-c4af2c77cd86"
      },
      "outputs": [
        {
          "output_type": "stream",
          "name": "stdout",
          "text": [
            "cat\n",
            "dog\n",
            "monkey\n"
          ]
        }
      ],
      "source": [
        "#### Loops\n",
        "### You can loop over the elements of a list like this:\n",
        "animals = ['cat', 'dog', 'monkey']\n",
        "for animal in animals:\n",
        "    print(animal)"
      ]
    },
    {
      "cell_type": "code",
      "execution_count": null,
      "id": "5cb3b99b-7bfb-40e7-af0f-3590ff688f4c",
      "metadata": {
        "colab": {
          "base_uri": "https://localhost:8080/"
        },
        "id": "5cb3b99b-7bfb-40e7-af0f-3590ff688f4c",
        "outputId": "45d52c94-a759-4427-a5f1-2e6e0437f178"
      },
      "outputs": [
        {
          "output_type": "stream",
          "name": "stdout",
          "text": [
            "#1: cat\n",
            "#2: dog\n",
            "#3: monkey\n"
          ]
        }
      ],
      "source": [
        "### If you want access to the index of each element within the body of a loop, use the built-in `enumerate` function:\n",
        "animals = ['cat', 'dog', 'monkey']\n",
        "for idx, animal in enumerate(animals):\n",
        "    print('#%d: %s' % (idx + 1, animal))"
      ]
    },
    {
      "cell_type": "code",
      "execution_count": null,
      "id": "85b432b1-e32e-46d5-b89b-ff5d90887466",
      "metadata": {
        "colab": {
          "base_uri": "https://localhost:8080/"
        },
        "id": "85b432b1-e32e-46d5-b89b-ff5d90887466",
        "outputId": "f7e8c2b9-5f90-430b-a27b-12a2d13d6f30"
      },
      "outputs": [
        {
          "output_type": "stream",
          "name": "stdout",
          "text": [
            "[0, 1, 4, 9, 16]\n"
          ]
        }
      ],
      "source": [
        "#### List comprehensions:\n",
        "### When programming, frequently we want to transform one type of data into another. As a simple example, consider the following code that computes square numbers:\n",
        "nums = [0, 1, 2, 3, 4]\n",
        "squares = []\n",
        "for x in nums:\n",
        "    squares.append(x ** 2)\n",
        "print(squares)"
      ]
    },
    {
      "cell_type": "code",
      "execution_count": null,
      "id": "86e52418-3242-49e9-a0bc-574fc549ce9d",
      "metadata": {
        "colab": {
          "base_uri": "https://localhost:8080/"
        },
        "id": "86e52418-3242-49e9-a0bc-574fc549ce9d",
        "outputId": "cc742dee-6309-4dc7-f77d-efcda2cc4fc2"
      },
      "outputs": [
        {
          "output_type": "stream",
          "name": "stdout",
          "text": [
            "[0, 1, 4, 9, 16]\n"
          ]
        }
      ],
      "source": [
        "### You can make this code simpler using a list comprehension:\n",
        "nums = [0, 1, 2, 3, 4]\n",
        "squares = [x ** 2 for x in nums]\n",
        "print(squares)"
      ]
    },
    {
      "cell_type": "code",
      "execution_count": null,
      "id": "593c7784-469f-4fc8-8652-3307e9dc664e",
      "metadata": {
        "colab": {
          "base_uri": "https://localhost:8080/"
        },
        "id": "593c7784-469f-4fc8-8652-3307e9dc664e",
        "outputId": "b21fafce-b3df-4499-9f39-275f6ae26792"
      },
      "outputs": [
        {
          "output_type": "stream",
          "name": "stdout",
          "text": [
            "[0, 4, 16]\n"
          ]
        }
      ],
      "source": [
        "### List comprehensions can also contain conditions:\n",
        "nums = [0, 1, 2, 3, 4]\n",
        "even_squares = [x ** 2 for x in nums if x % 2 == 0]\n",
        "print(even_squares)"
      ]
    },
    {
      "cell_type": "code",
      "execution_count": null,
      "id": "b88b7465-83ee-4812-8414-dd5ced889b48",
      "metadata": {
        "colab": {
          "base_uri": "https://localhost:8080/"
        },
        "id": "b88b7465-83ee-4812-8414-dd5ced889b48",
        "outputId": "60bc5a31-a40b-401e-f535-deb4725de15c"
      },
      "outputs": [
        {
          "output_type": "stream",
          "name": "stdout",
          "text": [
            "cute\n"
          ]
        }
      ],
      "source": [
        "#### Dictionaries\n",
        "### A dictionary stores (key, value) pairs, similar to a `Map` in Java or an object in Javascript. You can use it like this:\n",
        "d = {'cat': 'cute', 'dog': 'furry'}  # Create a new dictionary with some data\n",
        "print(d['cat'])       # Get an entry from a dictionary; prints \"cute\""
      ]
    },
    {
      "cell_type": "code",
      "execution_count": null,
      "id": "7253a6b8-db79-4b82-ac20-6889761dd012",
      "metadata": {
        "colab": {
          "base_uri": "https://localhost:8080/"
        },
        "id": "7253a6b8-db79-4b82-ac20-6889761dd012",
        "outputId": "e43e6172-2389-4aa5-e06d-f184f50dbd59"
      },
      "outputs": [
        {
          "output_type": "stream",
          "name": "stdout",
          "text": [
            "True\n"
          ]
        }
      ],
      "source": [
        "print('cat' in d)     # Check if a dictionary has a given key; prints \"True\""
      ]
    },
    {
      "cell_type": "code",
      "execution_count": null,
      "id": "2bf4104d-0715-4be8-b920-ed78e90ab012",
      "metadata": {
        "colab": {
          "base_uri": "https://localhost:8080/"
        },
        "id": "2bf4104d-0715-4be8-b920-ed78e90ab012",
        "outputId": "502add64-ab76-4903-bc4f-da3db04cbfd7"
      },
      "outputs": [
        {
          "output_type": "stream",
          "name": "stdout",
          "text": [
            "wet\n"
          ]
        }
      ],
      "source": [
        "d['fish'] = 'wet'    # Set an entry in a dictionary\n",
        "print(d['fish'])      # Prints \"wet\""
      ]
    },
    {
      "cell_type": "code",
      "execution_count": null,
      "id": "be3ec5ab-7659-4ee4-bbe9-3c5c348d1a50",
      "metadata": {
        "colab": {
          "base_uri": "https://localhost:8080/",
          "height": 139
        },
        "id": "be3ec5ab-7659-4ee4-bbe9-3c5c348d1a50",
        "outputId": "a12c27dc-f4ca-4c3d-e56a-59917b5b3d66"
      },
      "outputs": [
        {
          "output_type": "error",
          "ename": "KeyError",
          "evalue": "'monkey'",
          "traceback": [
            "\u001b[0;31m---------------------------------------------------------------------------\u001b[0m",
            "\u001b[0;31mKeyError\u001b[0m                                  Traceback (most recent call last)",
            "\u001b[0;32m<ipython-input-69-78fc9745d9cf>\u001b[0m in \u001b[0;36m<cell line: 1>\u001b[0;34m()\u001b[0m\n\u001b[0;32m----> 1\u001b[0;31m \u001b[0mprint\u001b[0m\u001b[0;34m(\u001b[0m\u001b[0md\u001b[0m\u001b[0;34m[\u001b[0m\u001b[0;34m'monkey'\u001b[0m\u001b[0;34m]\u001b[0m\u001b[0;34m)\u001b[0m  \u001b[0;31m# KeyError: 'monkey' not a key of d\u001b[0m\u001b[0;34m\u001b[0m\u001b[0;34m\u001b[0m\u001b[0m\n\u001b[0m",
            "\u001b[0;31mKeyError\u001b[0m: 'monkey'"
          ]
        }
      ],
      "source": [
        "print(d['monkey'])  # KeyError: 'monkey' not a key of d"
      ]
    },
    {
      "cell_type": "code",
      "execution_count": null,
      "id": "39a99854-e7c1-4bdf-a26d-d44c7e513143",
      "metadata": {
        "colab": {
          "base_uri": "https://localhost:8080/"
        },
        "id": "39a99854-e7c1-4bdf-a26d-d44c7e513143",
        "outputId": "4e5017c5-9e24-4f98-8819-59bac2d38ae4"
      },
      "outputs": [
        {
          "output_type": "stream",
          "name": "stdout",
          "text": [
            "N/A\n"
          ]
        }
      ],
      "source": [
        "print(d.get('monkey', 'N/A'))  # Get an element with a default; prints \"N/A\""
      ]
    },
    {
      "cell_type": "code",
      "execution_count": null,
      "id": "493cba17-a792-49c0-a800-920b3c5fbace",
      "metadata": {
        "colab": {
          "base_uri": "https://localhost:8080/"
        },
        "id": "493cba17-a792-49c0-a800-920b3c5fbace",
        "outputId": "3d75a200-011b-4d79-954e-10e617e584ce"
      },
      "outputs": [
        {
          "output_type": "stream",
          "name": "stdout",
          "text": [
            "wet\n"
          ]
        }
      ],
      "source": [
        "print(d.get('fish', 'N/A'))    # Get an element with a default; prints \"wet\""
      ]
    },
    {
      "cell_type": "code",
      "execution_count": null,
      "id": "453fac8a-1c5c-4add-9545-cd338be03bcf",
      "metadata": {
        "colab": {
          "base_uri": "https://localhost:8080/"
        },
        "id": "453fac8a-1c5c-4add-9545-cd338be03bcf",
        "outputId": "715cd4f5-92b9-476c-a818-50e35f4d7dae"
      },
      "outputs": [
        {
          "output_type": "stream",
          "name": "stdout",
          "text": [
            "N/A\n"
          ]
        }
      ],
      "source": [
        "del d['fish']        # Remove an element from a dictionary\n",
        "print(d.get('fish', 'N/A')) # \"fish\" is no longer a key; prints \"N/A\""
      ]
    },
    {
      "cell_type": "code",
      "execution_count": null,
      "id": "afa91e42-43c3-443e-b49b-fe2762cfe06b",
      "metadata": {
        "colab": {
          "base_uri": "https://localhost:8080/"
        },
        "id": "afa91e42-43c3-443e-b49b-fe2762cfe06b",
        "outputId": "157f4da7-bcbd-4216-8901-90276c1d59a6"
      },
      "outputs": [
        {
          "output_type": "stream",
          "name": "stdout",
          "text": [
            "A person has 2 legs\n",
            "A cat has 4 legs\n",
            "A spider has 8 legs\n"
          ]
        }
      ],
      "source": [
        "### It is easy to iterate over the keys in a dictionary:\n",
        "d = {'person': 2, 'cat': 4, 'spider': 8}\n",
        "for animal in d:\n",
        "    legs = d[animal]\n",
        "    print('A %s has %d legs' % (animal, legs))"
      ]
    },
    {
      "cell_type": "code",
      "execution_count": null,
      "id": "5379e726-93e4-4566-9af6-f7b39ca860c7",
      "metadata": {
        "colab": {
          "base_uri": "https://localhost:8080/"
        },
        "id": "5379e726-93e4-4566-9af6-f7b39ca860c7",
        "outputId": "8fef754f-445f-4596-fa7c-7c28b261d0c6"
      },
      "outputs": [
        {
          "output_type": "stream",
          "name": "stdout",
          "text": [
            "A person has 2 legs\n",
            "A cat has 4 legs\n",
            "A spider has 8 legs\n"
          ]
        }
      ],
      "source": [
        "### If you want access to keys and their corresponding values, use the iteritems method:\n",
        "d = {'person': 2, 'cat': 4, 'spider': 8}\n",
        "# dict.iteritems() will fail in Python 3\n",
        "for animal, legs in d.items():\n",
        "    print('A %s has %d legs' % (animal, legs))"
      ]
    },
    {
      "cell_type": "code",
      "execution_count": null,
      "id": "e65de92f-6a26-4283-9136-63dd6a32d240",
      "metadata": {
        "colab": {
          "base_uri": "https://localhost:8080/"
        },
        "id": "e65de92f-6a26-4283-9136-63dd6a32d240",
        "outputId": "d9d71000-aae6-4232-f2c7-bb0860dc8dc4"
      },
      "outputs": [
        {
          "output_type": "stream",
          "name": "stdout",
          "text": [
            "{0: 0, 2: 4, 4: 16}\n"
          ]
        }
      ],
      "source": [
        "### Dictionary comprehensions: These are similar to list comprehensions, but allow you to easily construct dictionaries. For example:\n",
        "nums = [0, 1, 2, 3, 4]\n",
        "even_num_to_square = {x: x ** 2 for x in nums if x % 2 == 0}\n",
        "print(even_num_to_square)"
      ]
    },
    {
      "cell_type": "code",
      "execution_count": null,
      "id": "19f96203-5be4-4f92-a6f1-3a1c098e686a",
      "metadata": {
        "colab": {
          "base_uri": "https://localhost:8080/"
        },
        "id": "19f96203-5be4-4f92-a6f1-3a1c098e686a",
        "outputId": "55e36015-fbf3-4622-d976-76a3e20a3f5f"
      },
      "outputs": [
        {
          "output_type": "stream",
          "name": "stdout",
          "text": [
            "True\n"
          ]
        }
      ],
      "source": [
        "#### Sets\n",
        "### A set is an unordered collection of distinct elements. As a simple example, consider the following:\n",
        "animals = {'cat', 'dog'}\n",
        "print('cat' in animals )  # Check if an element is in a set; prints \"True\""
      ]
    },
    {
      "cell_type": "code",
      "execution_count": null,
      "id": "78a2f609-27c9-47b8-9230-b676b0db3186",
      "metadata": {
        "colab": {
          "base_uri": "https://localhost:8080/"
        },
        "id": "78a2f609-27c9-47b8-9230-b676b0db3186",
        "outputId": "70ca021a-32c8-4d36-8af0-a417e1ca13e5"
      },
      "outputs": [
        {
          "output_type": "stream",
          "name": "stdout",
          "text": [
            "False\n"
          ]
        }
      ],
      "source": [
        "print('fish' in animals)  # prints \"False\""
      ]
    },
    {
      "cell_type": "code",
      "execution_count": null,
      "id": "8d8e9e63-6fa8-4b58-a8ff-b5c62031cf68",
      "metadata": {
        "colab": {
          "base_uri": "https://localhost:8080/"
        },
        "id": "8d8e9e63-6fa8-4b58-a8ff-b5c62031cf68",
        "outputId": "b69a0ce7-ae04-48b0-d62e-6ac229dba897"
      },
      "outputs": [
        {
          "output_type": "stream",
          "name": "stdout",
          "text": [
            "True\n"
          ]
        }
      ],
      "source": [
        "animals.add('fish')      # Add an element to a set\n",
        "print('fish' in animals)"
      ]
    },
    {
      "cell_type": "code",
      "execution_count": null,
      "id": "85201ade-8a04-4697-90bd-b6815cabc2e5",
      "metadata": {
        "colab": {
          "base_uri": "https://localhost:8080/"
        },
        "id": "85201ade-8a04-4697-90bd-b6815cabc2e5",
        "outputId": "52806223-eefa-46da-e57a-d5a111a989bd"
      },
      "outputs": [
        {
          "output_type": "stream",
          "name": "stdout",
          "text": [
            "3\n"
          ]
        }
      ],
      "source": [
        "print(len(animals))       # Number of elements in a set;"
      ]
    },
    {
      "cell_type": "code",
      "execution_count": null,
      "id": "bac55094-46d9-4566-8028-6e27c940f872",
      "metadata": {
        "colab": {
          "base_uri": "https://localhost:8080/"
        },
        "id": "bac55094-46d9-4566-8028-6e27c940f872",
        "outputId": "6cac2983-495c-42cb-e75a-7cda5799477b"
      },
      "outputs": [
        {
          "output_type": "stream",
          "name": "stdout",
          "text": [
            "3\n"
          ]
        }
      ],
      "source": [
        "animals.add('cat')       # Adding an element that is already in the set does nothing\n",
        "print(len(animals))"
      ]
    },
    {
      "cell_type": "code",
      "execution_count": null,
      "id": "abf9da6b-e6f3-40af-a146-f3b6d105200a",
      "metadata": {
        "colab": {
          "base_uri": "https://localhost:8080/"
        },
        "id": "abf9da6b-e6f3-40af-a146-f3b6d105200a",
        "outputId": "ac429dd6-10d0-4f28-930e-a6c489b047e1"
      },
      "outputs": [
        {
          "output_type": "stream",
          "name": "stdout",
          "text": [
            "2\n"
          ]
        }
      ],
      "source": [
        "animals.remove('cat')    # Remove an element from a set\n",
        "print(len(animals))"
      ]
    },
    {
      "cell_type": "code",
      "execution_count": null,
      "id": "73832675-0009-41cb-aa2a-6a651e18c077",
      "metadata": {
        "colab": {
          "base_uri": "https://localhost:8080/"
        },
        "id": "73832675-0009-41cb-aa2a-6a651e18c077",
        "outputId": "e27dc35b-05e2-4fa6-a948-77fea08faa93"
      },
      "outputs": [
        {
          "output_type": "stream",
          "name": "stdout",
          "text": [
            "#1: cat\n",
            "#2: dog\n",
            "#3: fish\n"
          ]
        }
      ],
      "source": [
        "### _Loops_: Iterating over a set has the same syntax as iterating over a list; however since sets are unordered, you cannot make assumptions about the order in which you visit the elements of the set:\n",
        "animals = {'cat', 'dog', 'fish'}\n",
        "for idx, animal in enumerate(animals):\n",
        "    print('#%d: %s' % (idx + 1, animal))  # Prints \"#1: fish\", \"#2: dog\", \"#3: cat\""
      ]
    },
    {
      "cell_type": "code",
      "execution_count": null,
      "id": "fe2485fe-e3d9-45c3-9d39-7ba73e9aa6e9",
      "metadata": {
        "colab": {
          "base_uri": "https://localhost:8080/"
        },
        "id": "fe2485fe-e3d9-45c3-9d39-7ba73e9aa6e9",
        "outputId": "70e933b8-b1ca-4ba1-de29-2bc6508cdf2b"
      },
      "outputs": [
        {
          "output_type": "stream",
          "name": "stdout",
          "text": [
            "{0, 1, 2, 3, 4, 5}\n"
          ]
        }
      ],
      "source": [
        "### Set comprehensions: Like lists and dictionaries, we can easily construct sets using set comprehensions:\n",
        "from math import sqrt\n",
        "print({int(sqrt(x)) for x in range(30)})"
      ]
    },
    {
      "cell_type": "code",
      "execution_count": null,
      "id": "1b21e3d6-f491-4ea2-afd2-2748b50b0761",
      "metadata": {
        "colab": {
          "base_uri": "https://localhost:8080/"
        },
        "id": "1b21e3d6-f491-4ea2-afd2-2748b50b0761",
        "outputId": "ae2cb23d-cf98-492d-f56b-b4232fb7eb29"
      },
      "outputs": [
        {
          "output_type": "stream",
          "name": "stdout",
          "text": [
            "<class 'tuple'>\n"
          ]
        }
      ],
      "source": [
        "#### Tuples\n",
        "#### A tuple is an (immutable) ordered list of values. A tuple is in many ways similar to a list; one of the most important differences is that tuples can be used as keys in dictionaries and as elements of sets, while lists cannot. Here is a trivial example:\n",
        "d = {(x, x + 1): x for x in range(10)}  # Create a dictionary with tuple keys\n",
        "t = (5, 6)       # Create a tuple\n",
        "print(type(t))"
      ]
    },
    {
      "cell_type": "code",
      "execution_count": null,
      "id": "42685667-1eac-4c2a-8423-9a1d551269ee",
      "metadata": {
        "colab": {
          "base_uri": "https://localhost:8080/"
        },
        "id": "42685667-1eac-4c2a-8423-9a1d551269ee",
        "outputId": "bd2f7509-f711-44d2-c73f-078c941999f4"
      },
      "outputs": [
        {
          "output_type": "stream",
          "name": "stdout",
          "text": [
            "5\n"
          ]
        }
      ],
      "source": [
        "print(d[t])"
      ]
    },
    {
      "cell_type": "code",
      "execution_count": null,
      "id": "1da0d705-a77d-4c1a-8de3-e1dacd304b5f",
      "metadata": {
        "colab": {
          "base_uri": "https://localhost:8080/"
        },
        "id": "1da0d705-a77d-4c1a-8de3-e1dacd304b5f",
        "outputId": "7058d9d7-9625-40e0-ac57-a28437898d16"
      },
      "outputs": [
        {
          "output_type": "stream",
          "name": "stdout",
          "text": [
            "1\n"
          ]
        }
      ],
      "source": [
        "print(d[(1, 2)])"
      ]
    },
    {
      "cell_type": "code",
      "execution_count": null,
      "id": "5ef38ad4-e1e9-4ddb-be26-b40a61ebcb8e",
      "metadata": {
        "colab": {
          "base_uri": "https://localhost:8080/"
        },
        "id": "5ef38ad4-e1e9-4ddb-be26-b40a61ebcb8e",
        "outputId": "dac955c1-f37b-47d3-b9b0-f3445aeac726"
      },
      "outputs": [
        {
          "output_type": "stream",
          "name": "stdout",
          "text": [
            "negative\n",
            "zero\n",
            "positive\n"
          ]
        }
      ],
      "source": [
        "### Functions\n",
        "### Python functions are defined using the `def` keyword. For example:\n",
        "def sign(x):\n",
        "    if x > 0:\n",
        "        return 'positive'\n",
        "    elif x < 0:\n",
        "        return 'negative'\n",
        "    else:\n",
        "        return 'zero'\n",
        "\n",
        "for x in [-1, 0, 1]:\n",
        "    print(sign(x))"
      ]
    },
    {
      "cell_type": "code",
      "execution_count": null,
      "id": "a762fc78-3e79-41b6-ab58-9326060a2634",
      "metadata": {
        "colab": {
          "base_uri": "https://localhost:8080/"
        },
        "id": "a762fc78-3e79-41b6-ab58-9326060a2634",
        "outputId": "45244d9b-c5dd-40e3-943b-87d798ff225f"
      },
      "outputs": [
        {
          "output_type": "stream",
          "name": "stdout",
          "text": [
            "Hello, Bob!\n",
            "HELLO, FRED\n"
          ]
        }
      ],
      "source": [
        "### We will often define functions to take optional keyword arguments, like this:\n",
        "def hello(name, loud=False):\n",
        "    if loud:\n",
        "        print('HELLO, %s' % name.upper())\n",
        "    else:\n",
        "        print('Hello, %s!' % name)\n",
        "\n",
        "hello('Bob')\n",
        "hello('Fred', loud=True)"
      ]
    },
    {
      "cell_type": "code",
      "execution_count": null,
      "id": "21114146-ab5a-415c-814d-29c2fdba1508",
      "metadata": {
        "colab": {
          "base_uri": "https://localhost:8080/"
        },
        "id": "21114146-ab5a-415c-814d-29c2fdba1508",
        "outputId": "0dea6583-74aa-404f-a8d5-31669adb4814"
      },
      "outputs": [
        {
          "output_type": "stream",
          "name": "stdout",
          "text": [
            "6\n"
          ]
        }
      ],
      "source": [
        "### Unpacking Arguments\n",
        "def my_sum(my_integers):\n",
        "    result = 0\n",
        "    for x in my_integers:\n",
        "        result += x\n",
        "    return result\n",
        "\n",
        "list_of_integers = [1, 2, 3]\n",
        "print(my_sum(list_of_integers))"
      ]
    },
    {
      "cell_type": "code",
      "execution_count": null,
      "id": "eefc6d52-c67f-44d8-9ce8-417a3d101927",
      "metadata": {
        "colab": {
          "base_uri": "https://localhost:8080/"
        },
        "id": "eefc6d52-c67f-44d8-9ce8-417a3d101927",
        "outputId": "24224294-c62f-41cb-c790-2630140697d7"
      },
      "outputs": [
        {
          "output_type": "stream",
          "name": "stdout",
          "text": [
            "6\n"
          ]
        }
      ],
      "source": [
        "def my_sum(*args):\n",
        "    result = 0\n",
        "    # Iterating over the Python args tuple\n",
        "    for x in args:\n",
        "        result += x\n",
        "    return result\n",
        "\n",
        "print(my_sum(1, 2, 3))"
      ]
    },
    {
      "cell_type": "code",
      "execution_count": null,
      "id": "145ef675-489f-43dc-84fb-c633fa12df2d",
      "metadata": {
        "colab": {
          "base_uri": "https://localhost:8080/"
        },
        "id": "145ef675-489f-43dc-84fb-c633fa12df2d",
        "outputId": "c8042950-4108-4f30-c7b7-94843303bd8d"
      },
      "outputs": [
        {
          "output_type": "stream",
          "name": "stdout",
          "text": [
            "RealPythonIsGreat!\n"
          ]
        }
      ],
      "source": [
        "def concatenate(**kwargs):\n",
        "    result = \"\"\n",
        "    # Iterating over the Python kwargs dictionary\n",
        "    for arg in kwargs.values():\n",
        "        result += arg\n",
        "    return result\n",
        "\n",
        "print(concatenate(a=\"Real\", b=\"Python\", c=\"Is\", d=\"Great\", e=\"!\"))"
      ]
    },
    {
      "cell_type": "code",
      "execution_count": null,
      "id": "d5a1714e-2f21-4a3f-9bc0-de2c6e6a974c",
      "metadata": {
        "colab": {
          "base_uri": "https://localhost:8080/"
        },
        "id": "d5a1714e-2f21-4a3f-9bc0-de2c6e6a974c",
        "outputId": "1a6e7902-fe71-4b37-db8f-37af9ce07857"
      },
      "outputs": [
        {
          "output_type": "stream",
          "name": "stdout",
          "text": [
            "Real Python Is Great !\n"
          ]
        }
      ],
      "source": [
        "# Create a sentence from a list of words.\n",
        "def create_sentence(**words):\n",
        "    return ' '.join(words.values())\n",
        "\n",
        "print(create_sentence(a=\"Real\", b=\"Python\", c=\"Is\", d=\"Great\", e=\"!\"))"
      ]
    },
    {
      "cell_type": "code",
      "execution_count": null,
      "id": "6142e33b-9169-4f94-97f3-5fa4049b123e",
      "metadata": {
        "colab": {
          "base_uri": "https://localhost:8080/"
        },
        "id": "6142e33b-9169-4f94-97f3-5fa4049b123e",
        "outputId": "5e0649b2-0e04-4bc3-b474-a35653d4d7b0"
      },
      "outputs": [
        {
          "output_type": "stream",
          "name": "stdout",
          "text": [
            "Hello, Fred\n",
            "HELLO, FRED!\n"
          ]
        }
      ],
      "source": [
        "### Classes\n",
        "### The syntax for defining classes in Python is straightforward:\n",
        "class Greeter:\n",
        "\n",
        "    # Constructor\n",
        "    def __init__(self, name):\n",
        "        self.name = name  # Create an instance variable\n",
        "\n",
        "    # Instance method\n",
        "    def greet(self, loud=False):\n",
        "        if loud:\n",
        "            print('HELLO, %s!' % self.name.upper())\n",
        "        else:\n",
        "            print('Hello, %s' % self.name)\n",
        "\n",
        "g = Greeter('Fred')  # Construct an instance of the Greeter class\n",
        "g.greet()            # Call an instance method; prints \"Hello, Fred\"\n",
        "g.greet(loud=True)   # Call an instance method; prints \"HELLO, FRED!\""
      ]
    }
  ],
  "metadata": {
    "kernelspec": {
      "display_name": "Python 3 (ipykernel)",
      "language": "python",
      "name": "python3"
    },
    "language_info": {
      "codemirror_mode": {
        "name": "ipython",
        "version": 3
      },
      "file_extension": ".py",
      "mimetype": "text/x-python",
      "name": "python",
      "nbconvert_exporter": "python",
      "pygments_lexer": "ipython3",
      "version": "3.12.4"
    },
    "colab": {
      "provenance": [],
      "include_colab_link": true
    }
  },
  "nbformat": 4,
  "nbformat_minor": 5
}